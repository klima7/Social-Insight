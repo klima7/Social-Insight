{
 "cells": [
  {
   "cell_type": "code",
   "execution_count": 1,
   "metadata": {},
   "outputs": [],
   "source": [
    "# Previous notebook was getting long"
   ]
  },
  {
   "cell_type": "code",
   "execution_count": 2,
   "metadata": {},
   "outputs": [],
   "source": [
    "# Required imports\n",
    "import json\n",
    "import re\n",
    "import zipfile as zp\n",
    "import pandas as pd\n",
    "import numpy as np\n",
    "import emoji\n",
    "import random\n",
    "import pygal\n",
    "import user_agents\n",
    "#flask example (example.zip musi być w katalogu głównym)\n",
    "from util import *\n",
    "\n",
    "# from user_agents import parse\n",
    "\n",
    "# # Let's start from an old, non touch Blackberry device\n",
    "# ua_string = 'BlackBerry9700/5.0.0.862 Profile/MIDP-2.1 Configuration/CLDC-1.1 VendorID/331 UNTRUSTED/1.0 3gpp-gba'\n",
    "# user_agent = parse(ua_string)\n",
    "# user_agent.is_mobile # returns True\n",
    "# user_agent.is_tablet # returns False\n",
    "# user_agent.is_touch_capable # returns False\n",
    "# user_agent.is_pc # returns False\n",
    "# user_agent.is_bot # returns False\n",
    "# str(user_agent) # returns \"BlackBerry 9700 / BlackBerry OS 5 / BlackBerry 9700\"\n"
   ]
  },
  {
   "cell_type": "code",
   "execution_count": 3,
   "metadata": {},
   "outputs": [],
   "source": [
    "def format_user_agent(t):\n",
    "    t = user_agents.parse(t)\n",
    "    dev = str(t.device.brand) + ' ' + str(t.device.model)\n",
    "    if t.device.brand == None and t.device.model == None:\n",
    "        if t.is_pc:\n",
    "            dev = 'PC'\n",
    "        else:\n",
    "            dev = 'Other'\n",
    "    # t.os.family, t.browser.family, dev\n",
    "    return  dev + ' / ' + str(t.os.family) + ' / ' + t.browser.family"
   ]
  },
  {
   "cell_type": "code",
   "execution_count": 4,
   "metadata": {},
   "outputs": [],
   "source": [
    "# zip_path = \"/home/jacek/Pobrane/Okon_Slowacki_30_11_2020.zip\"\n",
    "zip_path = \"/home/jacek/Pobrane/facebook-jacekstasiak75 222.zip\"\n",
    "# zip_path = \"/home/jacek/Pobrane/win10 unpacked/facebook-okoń 28-12-20.zip\"\n",
    "# zip_path = \"/home/jacek/Pobrane/facebook-janpodkowa98.zip\"\n",
    "\n",
    "data = None\n",
    "frens = None\n",
    "logins = None\n",
    "acc_activity = None\n",
    "with zp.ZipFile(zip_path) as zip:\n",
    "    data = gen_pandas_table(zip)\n",
    "\n",
    "    folders = get_structure(zip)\n",
    "    fb_activity_path = None\n",
    "    acc_activity_path = None\n",
    "    \n",
    "    for i in folders['security_and_login_information']['__files']:\n",
    "        if i[0] == 'your_facebook_activity.json':\n",
    "            fb_activity_path = i[1]\n",
    "        elif i[0] == 'account_activity.json':\n",
    "            acc_activity_path = i[1]\n",
    "    \n",
    "    log_data = pd.DataFrame()\n",
    "    with zip.open(fb_activity_path) as f:\n",
    "        jsec = json.loads(f.read())\n",
    "        act_type = []\n",
    "        act_time = []\n",
    "        for k, v in jsec['last_activity']['last_activity_time'].items():\n",
    "#             print(k)\n",
    "            for i in v['activity_by_day']:\n",
    "                act_type.append(k)\n",
    "                act_time.append(i)\n",
    "        log_data = pd.DataFrame({'source': act_type, 'time': act_time})\n",
    "        log_data.time = pd.to_datetime(log_data.time, unit='s')\n",
    "    logins = log_data\n",
    "    \n",
    "    \n",
    "    with zip.open(acc_activity_path) as f:\n",
    "        actions = []\n",
    "        times = []\n",
    "        agents = []\n",
    "        jdata = json.loads(f.read())\n",
    "        for j in jdata['account_activity']:\n",
    "#             print(j['action'] + \", \" + j['user_agent'])\n",
    "            actions.append(j['action'])\n",
    "            parsed_agent = format_user_agent(j['user_agent'])\n",
    "#             parsed_agent = str(user_agents.parse(j['user_agent']))\n",
    "#             print(j['user_agent'])\n",
    "#             if 'Facebook' in parsed_agent:\n",
    "#                 parsed_agent = re.sub('Facebook.*', 'Facebook', parsed_agent)\n",
    "                \n",
    "            agents.append(str(parsed_agent))\n",
    "            times.append(j['timestamp'])\n",
    "            \n",
    "        acc_activity = pd.DataFrame({'time': times, 'agent': agents, 'action': actions})\n",
    "        acc_activity.time = pd.to_datetime(acc_activity.time, unit='s')\n",
    "        \n",
    "#         print(jsec)\n",
    "# logins\n",
    "# logins.groupby(logins.source).count()\n",
    "# messages_table = data['messages']"
   ]
  },
  {
   "cell_type": "code",
   "execution_count": 14,
   "metadata": {},
   "outputs": [
    {
     "data": {
      "image/png": "[encoded data removed]",
      "image/svg+xml": [
       "<svg xmlns=\"http://www.w3.org/2000/svg\" xmlns:xlink=\"http://www.w3.org/1999/xlink\" id=\"chart-69021a82-a763-4935-ae08-c3812b708c32\" class=\"pygal-chart\" viewBox=\"0 0 800 600\"><!--Generated with pygal 2.4.0 (lxml) ©Kozea 2012-2016 on 2020-12-28--><!--http://pygal.org--><!--http://github.com/Kozea/pygal--><defs><style type=\"text/css\">#chart-69021a82-a763-4935-ae08-c3812b708c32{-webkit-user-select:none;-webkit-font-smoothing:antialiased;font-family:Consolas,\"Liberation Mono\",Menlo,Courier,monospace}#chart-69021a82-a763-4935-ae08-c3812b708c32 .title{font-family:Consolas,\"Liberation Mono\",Menlo,Courier,monospace;font-size:16px}#chart-69021a82-a763-4935-ae08-c3812b708c32 .legends .legend text{font-family:Consolas,\"Liberation Mono\",Menlo,Courier,monospace;font-size:14px}#chart-69021a82-a763-4935-ae08-c3812b708c32 .axis text{font-family:Consolas,\"Liberation Mono\",Menlo,Courier,monospace;font-size:10px}#chart-69021a82-a763-4935-ae08-c3812b708c32 .axis text.major{font-family:Consolas,\"Liberation Mono\",Menlo,Courier,monospace;font-size:10px}#chart-69021a82-a763-4935-ae08-c3812b708c32 .text-overlay text.value{font-family:Consolas,\"Liberation Mono\",Menlo,Courier,monospace;font-size:16px}#chart-69021a82-a763-4935-ae08-c3812b708c32 .text-overlay text.label{font-family:Consolas,\"Liberation Mono\",Menlo,Courier,monospace;font-size:10px}#chart-69021a82-a763-4935-ae08-c3812b708c32 .tooltip{font-family:Consolas,\"Liberation Mono\",Menlo,Courier,monospace;font-size:14px}#chart-69021a82-a763-4935-ae08-c3812b708c32 text.no_data{font-family:Consolas,\"Liberation Mono\",Menlo,Courier,monospace;font-size:64px}\n",
       "#chart-69021a82-a763-4935-ae08-c3812b708c32{background-color:rgba(249,249,249,1)}#chart-69021a82-a763-4935-ae08-c3812b708c32 path,#chart-69021a82-a763-4935-ae08-c3812b708c32 line,#chart-69021a82-a763-4935-ae08-c3812b708c32 rect,#chart-69021a82-a763-4935-ae08-c3812b708c32 circle{-webkit-transition:150ms;-moz-transition:150ms;transition:150ms}#chart-69021a82-a763-4935-ae08-c3812b708c32 .graph &gt; .background{fill:rgba(249,249,249,1)}#chart-69021a82-a763-4935-ae08-c3812b708c32 .plot &gt; .background{fill:rgba(255,255,255,1)}#chart-69021a82-a763-4935-ae08-c3812b708c32 .graph{fill:rgba(0,0,0,.87)}#chart-69021a82-a763-4935-ae08-c3812b708c32 text.no_data{fill:rgba(0,0,0,1)}#chart-69021a82-a763-4935-ae08-c3812b708c32 .title{fill:rgba(0,0,0,1)}#chart-69021a82-a763-4935-ae08-c3812b708c32 .legends .legend text{fill:rgba(0,0,0,.87)}#chart-69021a82-a763-4935-ae08-c3812b708c32 .legends .legend:hover text{fill:rgba(0,0,0,1)}#chart-69021a82-a763-4935-ae08-c3812b708c32 .axis .line{stroke:rgba(0,0,0,1)}#chart-69021a82-a763-4935-ae08-c3812b708c32 .axis .guide.line{stroke:rgba(0,0,0,.54)}#chart-69021a82-a763-4935-ae08-c3812b708c32 .axis .major.line{stroke:rgba(0,0,0,.87)}#chart-69021a82-a763-4935-ae08-c3812b708c32 .axis text.major{fill:rgba(0,0,0,1)}#chart-69021a82-a763-4935-ae08-c3812b708c32 .axis.y .guides:hover .guide.line,#chart-69021a82-a763-4935-ae08-c3812b708c32 .line-graph .axis.x .guides:hover .guide.line,#chart-69021a82-a763-4935-ae08-c3812b708c32 .stackedline-graph .axis.x .guides:hover .guide.line,#chart-69021a82-a763-4935-ae08-c3812b708c32 .xy-graph .axis.x .guides:hover .guide.line{stroke:rgba(0,0,0,1)}#chart-69021a82-a763-4935-ae08-c3812b708c32 .axis .guides:hover text{fill:rgba(0,0,0,1)}#chart-69021a82-a763-4935-ae08-c3812b708c32 .reactive{fill-opacity:.7;stroke-opacity:.8}#chart-69021a82-a763-4935-ae08-c3812b708c32 .ci{stroke:rgba(0,0,0,.87)}#chart-69021a82-a763-4935-ae08-c3812b708c32 .reactive.active,#chart-69021a82-a763-4935-ae08-c3812b708c32 .active .reactive{fill-opacity:.8;stroke-opacity:.9;stroke-width:4}#chart-69021a82-a763-4935-ae08-c3812b708c32 .ci .reactive.active{stroke-width:1.5}#chart-69021a82-a763-4935-ae08-c3812b708c32 .series text{fill:rgba(0,0,0,1)}#chart-69021a82-a763-4935-ae08-c3812b708c32 .tooltip rect{fill:rgba(255,255,255,1);stroke:rgba(0,0,0,1);-webkit-transition:opacity 150ms;-moz-transition:opacity 150ms;transition:opacity 150ms}#chart-69021a82-a763-4935-ae08-c3812b708c32 .tooltip .label{fill:rgba(0,0,0,.87)}#chart-69021a82-a763-4935-ae08-c3812b708c32 .tooltip .label{fill:rgba(0,0,0,.87)}#chart-69021a82-a763-4935-ae08-c3812b708c32 .tooltip .legend{font-size:.8em;fill:rgba(0,0,0,.54)}#chart-69021a82-a763-4935-ae08-c3812b708c32 .tooltip .x_label{font-size:.6em;fill:rgba(0,0,0,1)}#chart-69021a82-a763-4935-ae08-c3812b708c32 .tooltip .xlink{font-size:.5em;text-decoration:underline}#chart-69021a82-a763-4935-ae08-c3812b708c32 .tooltip .value{font-size:1.5em}#chart-69021a82-a763-4935-ae08-c3812b708c32 .bound{font-size:.5em}#chart-69021a82-a763-4935-ae08-c3812b708c32 .max-value{font-size:.75em;fill:rgba(0,0,0,.54)}#chart-69021a82-a763-4935-ae08-c3812b708c32 .map-element{fill:rgba(255,255,255,1);stroke:rgba(0,0,0,.54) !important}#chart-69021a82-a763-4935-ae08-c3812b708c32 .map-element .reactive{fill-opacity:inherit;stroke-opacity:inherit}#chart-69021a82-a763-4935-ae08-c3812b708c32 .color-0,#chart-69021a82-a763-4935-ae08-c3812b708c32 .color-0 a:visited{stroke:#F44336;fill:#F44336}#chart-69021a82-a763-4935-ae08-c3812b708c32 .text-overlay .color-0 text{fill:black}\n",
       "#chart-69021a82-a763-4935-ae08-c3812b708c32 text.no_data{text-anchor:middle}#chart-69021a82-a763-4935-ae08-c3812b708c32 .guide.line{fill:none}#chart-69021a82-a763-4935-ae08-c3812b708c32 .centered{text-anchor:middle}#chart-69021a82-a763-4935-ae08-c3812b708c32 .title{text-anchor:middle}#chart-69021a82-a763-4935-ae08-c3812b708c32 .legends .legend text{fill-opacity:1}#chart-69021a82-a763-4935-ae08-c3812b708c32 .axis.x text{text-anchor:middle}#chart-69021a82-a763-4935-ae08-c3812b708c32 .axis.x:not(.web) text[transform]{text-anchor:start}#chart-69021a82-a763-4935-ae08-c3812b708c32 .axis.x:not(.web) text[transform].backwards{text-anchor:end}#chart-69021a82-a763-4935-ae08-c3812b708c32 .axis.y text{text-anchor:end}#chart-69021a82-a763-4935-ae08-c3812b708c32 .axis.y text[transform].backwards{text-anchor:start}#chart-69021a82-a763-4935-ae08-c3812b708c32 .axis.y2 text{text-anchor:start}#chart-69021a82-a763-4935-ae08-c3812b708c32 .axis.y2 text[transform].backwards{text-anchor:end}#chart-69021a82-a763-4935-ae08-c3812b708c32 .axis .guide.line{stroke-dasharray:4,4}#chart-69021a82-a763-4935-ae08-c3812b708c32 .axis .major.guide.line{stroke-dasharray:6,6}#chart-69021a82-a763-4935-ae08-c3812b708c32 .horizontal .axis.y .guide.line,#chart-69021a82-a763-4935-ae08-c3812b708c32 .horizontal .axis.y2 .guide.line,#chart-69021a82-a763-4935-ae08-c3812b708c32 .vertical .axis.x .guide.line{opacity:0}#chart-69021a82-a763-4935-ae08-c3812b708c32 .horizontal .axis.always_show .guide.line,#chart-69021a82-a763-4935-ae08-c3812b708c32 .vertical .axis.always_show .guide.line{opacity:1 !important}#chart-69021a82-a763-4935-ae08-c3812b708c32 .axis.y .guides:hover .guide.line,#chart-69021a82-a763-4935-ae08-c3812b708c32 .axis.y2 .guides:hover .guide.line,#chart-69021a82-a763-4935-ae08-c3812b708c32 .axis.x .guides:hover .guide.line{opacity:1}#chart-69021a82-a763-4935-ae08-c3812b708c32 .axis .guides:hover text{opacity:1}#chart-69021a82-a763-4935-ae08-c3812b708c32 .nofill{fill:none}#chart-69021a82-a763-4935-ae08-c3812b708c32 .subtle-fill{fill-opacity:.2}#chart-69021a82-a763-4935-ae08-c3812b708c32 .dot{stroke-width:1px;fill-opacity:1}#chart-69021a82-a763-4935-ae08-c3812b708c32 .dot.active{stroke-width:5px}#chart-69021a82-a763-4935-ae08-c3812b708c32 .dot.negative{fill:transparent}#chart-69021a82-a763-4935-ae08-c3812b708c32 text,#chart-69021a82-a763-4935-ae08-c3812b708c32 tspan{stroke:none !important}#chart-69021a82-a763-4935-ae08-c3812b708c32 .series text.active{opacity:1}#chart-69021a82-a763-4935-ae08-c3812b708c32 .tooltip rect{fill-opacity:.95;stroke-width:.5}#chart-69021a82-a763-4935-ae08-c3812b708c32 .tooltip text{fill-opacity:1}#chart-69021a82-a763-4935-ae08-c3812b708c32 .showable{visibility:hidden}#chart-69021a82-a763-4935-ae08-c3812b708c32 .showable.shown{visibility:visible}#chart-69021a82-a763-4935-ae08-c3812b708c32 .gauge-background{fill:rgba(229,229,229,1);stroke:none}#chart-69021a82-a763-4935-ae08-c3812b708c32 .bg-lines{stroke:rgba(249,249,249,1);stroke-width:2px}</style><script type=\"text/javascript\">window.pygal = window.pygal || {};window.pygal.config = window.pygal.config || {};window.pygal.config['69021a82-a763-4935-ae08-c3812b708c32'] = {\"allow_interruptions\": false, \"box_mode\": \"extremes\", \"classes\": [\"pygal-chart\"], \"css\": [\"file://style.css\", \"file://graph.css\"], \"defs\": [], \"disable_xml_declaration\": true, \"dots_size\": 2.5, \"dynamic_print_values\": false, \"explicit_size\": false, \"fill\": false, \"force_uri_protocol\": \"https\", \"formatter\": null, \"half_pie\": false, \"height\": 600, \"include_x_axis\": false, \"inner_radius\": 0, \"interpolate\": null, \"interpolation_parameters\": {}, \"interpolation_precision\": 250, \"inverse_y_axis\": false, \"js\": [\"//kozea.github.io/pygal.js/2.0.x/pygal-tooltips.min.js\"], \"legend_at_bottom\": false, \"legend_at_bottom_columns\": null, \"legend_box_size\": 12, \"logarithmic\": false, \"margin\": 20, \"margin_bottom\": null, \"margin_left\": null, \"margin_right\": null, \"margin_top\": null, \"max_scale\": 16, \"min_scale\": 4, \"missing_value_fill_truncation\": \"x\", \"no_data_text\": \"No data\", \"no_prefix\": false, \"order_min\": null, \"pretty_print\": false, \"print_labels\": false, \"print_values\": false, \"print_values_position\": \"center\", \"print_zeroes\": true, \"range\": null, \"rounded_bars\": null, \"secondary_range\": null, \"show_dots\": true, \"show_legend\": false, \"show_minor_x_labels\": true, \"show_minor_y_labels\": true, \"show_only_major_dots\": false, \"show_x_guides\": true, \"show_x_labels\": true, \"show_y_guides\": false, \"show_y_labels\": true, \"spacing\": 10, \"stack_from_top\": false, \"strict\": false, \"stroke\": true, \"stroke_style\": null, \"style\": {\"background\": \"rgba(249, 249, 249, 1)\", \"ci_colors\": [], \"colors\": [\"#F44336\", \"#3F51B5\", \"#009688\", \"#FFC107\", \"#FF5722\", \"#9C27B0\", \"#03A9F4\", \"#8BC34A\", \"#FF9800\", \"#E91E63\", \"#2196F3\", \"#4CAF50\", \"#FFEB3B\", \"#673AB7\", \"#00BCD4\", \"#CDDC39\", \"#9E9E9E\", \"#607D8B\"], \"font_family\": \"Consolas, \\\"Liberation Mono\\\", Menlo, Courier, monospace\", \"foreground\": \"rgba(0, 0, 0, .87)\", \"foreground_strong\": \"rgba(0, 0, 0, 1)\", \"foreground_subtle\": \"rgba(0, 0, 0, .54)\", \"guide_stroke_dasharray\": \"4,4\", \"label_font_family\": \"Consolas, \\\"Liberation Mono\\\", Menlo, Courier, monospace\", \"label_font_size\": 10, \"legend_font_family\": \"Consolas, \\\"Liberation Mono\\\", Menlo, Courier, monospace\", \"legend_font_size\": 14, \"major_guide_stroke_dasharray\": \"6,6\", \"major_label_font_family\": \"Consolas, \\\"Liberation Mono\\\", Menlo, Courier, monospace\", \"major_label_font_size\": 10, \"no_data_font_family\": \"Consolas, \\\"Liberation Mono\\\", Menlo, Courier, monospace\", \"no_data_font_size\": 64, \"opacity\": \".7\", \"opacity_hover\": \".8\", \"plot_background\": \"rgba(255, 255, 255, 1)\", \"stroke_opacity\": \".8\", \"stroke_opacity_hover\": \".9\", \"title_font_family\": \"Consolas, \\\"Liberation Mono\\\", Menlo, Courier, monospace\", \"title_font_size\": 16, \"tooltip_font_family\": \"Consolas, \\\"Liberation Mono\\\", Menlo, Courier, monospace\", \"tooltip_font_size\": 14, \"transition\": \"150ms\", \"value_background\": \"rgba(229, 229, 229, 1)\", \"value_colors\": [], \"value_font_family\": \"Consolas, \\\"Liberation Mono\\\", Menlo, Courier, monospace\", \"value_font_size\": 16, \"value_label_font_family\": \"Consolas, \\\"Liberation Mono\\\", Menlo, Courier, monospace\", \"value_label_font_size\": 10}, \"title\": null, \"tooltip_border_radius\": 0, \"tooltip_fancy_mode\": true, \"truncate_label\": null, \"truncate_legend\": null, \"width\": 800, \"x_label_rotation\": 0, \"x_labels\": [\"PC / Windows / Firefox\", \"Samsung SM-A520F / Android / Facebook\", \"PC / Linux / Firefox\"], \"x_labels_major\": null, \"x_labels_major_count\": null, \"x_labels_major_every\": null, \"x_title\": \"% of usage\", \"xrange\": null, \"y_label_rotation\": 0, \"y_labels\": null, \"y_labels_major\": null, \"y_labels_major_count\": null, \"y_labels_major_every\": null, \"y_title\": null, \"zero\": 0, \"legends\": [\"\"]}</script><script type=\"text/javascript\" xlink:href=\"https://kozea.github.io/pygal.js/2.0.x/pygal-tooltips.min.js\"/></defs><title>Pygal</title><g class=\"graph horizontalbar-graph horizontal\"><rect x=\"0\" y=\"0\" width=\"800\" height=\"600\" class=\"background\"/><g transform=\"translate(252, 20)\" class=\"plot\"><rect x=\"0\" y=\"0\" width=\"528.0\" height=\"514\" class=\"background\"/><g class=\"axis y\"><g class=\"guides\"><text x=\"-5\" y=\"425.2435897435897\" class=\"\">PC / Windows / Firefox</text><title>0.1666666667</title></g><g class=\"guides\"><text x=\"-5\" y=\"260.5\" class=\"\">Samsung SM-A520F / Android / Facebook</text><title>0.5</title></g><g class=\"guides\"><text x=\"-5\" y=\"95.75641025641028\" class=\"\">PC / Linux / Firefox</text><title>0.8333333333</title></g></g><g class=\"axis x always_show\"><g class=\"guides\"><path d=\"M10.153846 0.000000 v514.000000\" class=\"axis major line\"/><text x=\"10.153846153846153\" y=\"529.0\" class=\"major\">0</text></g><g class=\"guides\"><path d=\"M86.698225 0.000000 v514.000000\" class=\"guide line\"/><text x=\"86.69822485207102\" y=\"529.0\" class=\"\">10</text></g><g class=\"guides\"><path d=\"M163.242604 0.000000 v514.000000\" class=\"guide line\"/><text x=\"163.24260355029588\" y=\"529.0\" class=\"\">20</text></g><g class=\"guides\"><path d=\"M239.786982 0.000000 v514.000000\" class=\"guide line\"/><text x=\"239.78698224852076\" y=\"529.0\" class=\"\">30</text></g><g class=\"guides\"><path d=\"M316.331361 0.000000 v514.000000\" class=\"guide line\"/><text x=\"316.3313609467456\" y=\"529.0\" class=\"\">40</text></g><g class=\"guides\"><path d=\"M392.875740 0.000000 v514.000000\" class=\"major guide line\"/><text x=\"392.87573964497045\" y=\"529.0\" class=\"major\">50</text></g><g class=\"guides\"><path d=\"M469.420118 0.000000 v514.000000\" class=\"guide line\"/><text x=\"469.42011834319527\" y=\"529.0\" class=\"\">60</text></g></g><g class=\"series serie-0 color-0\"><g class=\"bars\"><g class=\"bar\"><rect x=\"10.15384615384616\" y=\"357.95487179487185\" rx=\"0\" ry=\"0\" width=\"96.33136094674558\" height=\"127.5774358974359\" class=\"rect reactive tooltip-trigger\"/><desc class=\"value\">12.58503401</desc><desc class=\"x centered\">58.31952662721895</desc><desc class=\"y centered\">421.74358974358984</desc><desc class=\"x_label\">PC / Windows / Firefox</desc></g><g class=\"bar\"><rect x=\"10.15384615384616\" y=\"193.21128205128207\" rx=\"0\" ry=\"0\" width=\"161.4201183431953\" height=\"127.5774358974359\" class=\"rect reactive tooltip-trigger\"/><desc class=\"value\">21.08843537</desc><desc class=\"x centered\">90.86390532544381</desc><desc class=\"y centered\">257.00000000000006</desc><desc class=\"x_label\">Samsung SM-A520F / Android / Facebook</desc></g><g class=\"bar\"><rect x=\"10.153846153846132\" y=\"28.467692307692303\" rx=\"0\" ry=\"0\" width=\"507.6923076923077\" height=\"127.5774358974359\" class=\"rect reactive tooltip-trigger\"/><desc class=\"value\">66.32653061</desc><desc class=\"x centered\">264.0</desc><desc class=\"y centered\">92.25641025641025</desc><desc class=\"x_label\">PC / Linux / Firefox</desc></g></g></g></g><g class=\"titles\"><text x=\"516.0\" y=\"580\" class=\"title\">% of usage</text></g><g transform=\"translate(252, 20)\" class=\"plot overlay\"><g class=\"series serie-0 color-0\"/></g><g transform=\"translate(252, 20)\" class=\"plot text-overlay\"><g class=\"series serie-0 color-0\"/></g><g transform=\"translate(252, 20)\" class=\"plot tooltip-overlay\"><g transform=\"translate(0 0)\" style=\"opacity: 0\" class=\"tooltip\"><rect rx=\"0\" ry=\"0\" width=\"0\" height=\"0\" class=\"tooltip-box\"/><g class=\"text\"/></g></g></g></svg>"
      ],
      "text/plain": [
       "<pygal.graph.horizontalbar.HorizontalBar at 0x7fb955c289a0>"
      ]
     },
     "execution_count": 14,
     "metadata": {},
     "output_type": "execute_result"
    }
   ],
   "source": [
    "# print(data.keys())\n",
    "acc_act = data['account_activity']\n",
    "acc_act.agent.unique()\n",
    "device_usage = acc_act.groupby(acc_act.agent).action.count().sort_values(ascending=True)\n",
    "total_uses = device_usage.sum()\n",
    "\n",
    "chart = pygal.HorizontalBar(show_legend=False)\n",
    "chart.x_labels = list(device_usage.index)\n",
    "chart.add('', [ (i / total_uses) * 100 for i in list(device_usage)])\n",
    "# chart.y_title = 'device name'\n",
    "chart.x_title = '% of usage'\n",
    "\n",
    "# hour_active = acc_act[(acc_act.action == 'Login') | (acc_act.action == 'Session updated')].groupby(acc_activity.time.dt.hour)\n",
    "# hour_active = hour_active.action.count()\n",
    "# total_hours = hour_active.sum()\n",
    "# print(total_hours)\n",
    "# hour_active = dict(hour_active)\n",
    "# for i in range(24):\n",
    "#     if not i in hour_active:\n",
    "#         hour_active[i] = 0\n",
    "# # sorted(hour_active.items(), key=lambda x: x[0])\n",
    "# chart = pygal.Bar(show_legend=False)\n",
    "# chart.x_labels = [i for i in range(24)]\n",
    "# chart.add('', [(hour_active[i] / total_hours) * 100 for i in range(24)])\n",
    "# chart.y_title = '% of activity'\n",
    "# chart.x_title = 'hour'\n",
    "chart\n",
    "\n",
    "\n",
    "#20:13"
   ]
  },
  {
   "cell_type": "code",
   "execution_count": null,
   "metadata": {},
   "outputs": [],
   "source": [
    "# change\n",
    "# * Przeniosłem funkcje związane z wczytywaniem zipa z messages.py do util.py\n",
    "# * Nowy jupyter notatnik\n",
    "# * requirements.txt user-agents ?!??\n",
    "\n",
    "# wczytywanie loginów (później będzie dołączone do gen_pandas_table)\n"
   ]
  },
  {
   "cell_type": "code",
   "execution_count": null,
   "metadata": {},
   "outputs": [],
   "source": []
  }
 ],
 "metadata": {
  "kernelspec": {
   "display_name": "Python 3",
   "language": "python",
   "name": "python3"
  },
  "language_info": {
   "codemirror_mode": {
    "name": "ipython",
    "version": 3
   },
   "file_extension": ".py",
   "mimetype": "text/x-python",
   "name": "python",
   "nbconvert_exporter": "python",
   "pygments_lexer": "ipython3",
   "version": "3.8.5"
  }
 },
 "nbformat": 4,
 "nbformat_minor": 4
}
