{
 "cells": [
  {
   "cell_type": "code",
   "execution_count": 54,
   "metadata": {},
   "outputs": [],
   "source": [
    "import json\n",
    "import pandas as pd\n",
    "import zipfile as zp"
   ]
  },
  {
   "cell_type": "code",
   "execution_count": 49,
   "metadata": {},
   "outputs": [],
   "source": [
    "file_path = '../../examples/example1.zip'"
   ]
  },
  {
   "cell_type": "code",
   "execution_count": 30,
   "metadata": {},
   "outputs": [],
   "source": [
    "def fb_decode(text):\n",
    "    return text.encode('latin1').decode('utf8')"
   ]
  },
  {
   "cell_type": "code",
   "execution_count": 53,
   "metadata": {},
   "outputs": [],
   "source": [
    "def _get_search_history(zip_file):\n",
    "    with zip_file.open('search_history/your_search_history.json') as f:\n",
    "        jdata = json.loads(f.read())\n",
    "        messages = []\n",
    "        types = []\n",
    "        for search in list(jdata['searches']):\n",
    "            if 'data' in search:\n",
    "                messages.append(fb_decode(search['data'][0]['text']))\n",
    "                types.append(fb_decode(search['title']))\n",
    "    history = pd.DataFrame({'message': messages, 'type': types})\n",
    "    return history\n",
    "\n",
    "history = None\n",
    "with zp.ZipFile(file_path) as zip:\n",
    "    history = _get_search_history(zip)"
   ]
  },
  {
   "cell_type": "code",
   "execution_count": 62,
   "metadata": {},
   "outputs": [],
   "source": [
    "def _get_your_topics(zip_file):\n",
    "    with zip_file.open('your_topics/your_topics.json') as f:\n",
    "        jdata = json.loads(f.read())\n",
    "        topics = []\n",
    "        for topic in list(jdata['inferred_topics']):\n",
    "            topics.append(fb_decode(topic))\n",
    "    topics = pd.DataFrame({'topic': topics})\n",
    "    return topics\n",
    "\n",
    "topics = None\n",
    "with zp.ZipFile(file_path) as zip:\n",
    "    topics = _get_your_topics(zip)"
   ]
  },
  {
   "cell_type": "code",
   "execution_count": 63,
   "metadata": {},
   "outputs": [
    {
     "data": {
      "text/html": [
       "<div>\n",
       "<style scoped>\n",
       "    .dataframe tbody tr th:only-of-type {\n",
       "        vertical-align: middle;\n",
       "    }\n",
       "\n",
       "    .dataframe tbody tr th {\n",
       "        vertical-align: top;\n",
       "    }\n",
       "\n",
       "    .dataframe thead th {\n",
       "        text-align: right;\n",
       "    }\n",
       "</style>\n",
       "<table border=\"1\" class=\"dataframe\">\n",
       "  <thead>\n",
       "    <tr style=\"text-align: right;\">\n",
       "      <th></th>\n",
       "      <th>topic</th>\n",
       "    </tr>\n",
       "  </thead>\n",
       "  <tbody>\n",
       "    <tr>\n",
       "      <th>0</th>\n",
       "      <td>Software Engineering &amp; Computer Programming</td>\n",
       "    </tr>\n",
       "    <tr>\n",
       "      <th>1</th>\n",
       "      <td>Computer Science</td>\n",
       "    </tr>\n",
       "    <tr>\n",
       "      <th>2</th>\n",
       "      <td>Artificial Intelligence &amp; Machine Learning</td>\n",
       "    </tr>\n",
       "    <tr>\n",
       "      <th>3</th>\n",
       "      <td>Clothing &amp; Accessories</td>\n",
       "    </tr>\n",
       "  </tbody>\n",
       "</table>\n",
       "</div>"
      ],
      "text/plain": [
       "                                         topic\n",
       "0  Software Engineering & Computer Programming\n",
       "1                             Computer Science\n",
       "2   Artificial Intelligence & Machine Learning\n",
       "3                       Clothing & Accessories"
      ]
     },
     "execution_count": 63,
     "metadata": {},
     "output_type": "execute_result"
    }
   ],
   "source": [
    "topics"
   ]
  }
 ],
 "metadata": {
  "kernelspec": {
   "display_name": "Python 3",
   "language": "python",
   "name": "python3"
  },
  "language_info": {
   "codemirror_mode": {
    "name": "ipython",
    "version": 3
   },
   "file_extension": ".py",
   "mimetype": "text/x-python",
   "name": "python",
   "nbconvert_exporter": "python",
   "pygments_lexer": "ipython3",
   "version": "3.8.3"
  }
 },
 "nbformat": 4,
 "nbformat_minor": 4
}
